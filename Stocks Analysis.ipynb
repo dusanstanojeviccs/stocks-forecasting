{
 "cells": [
  {
   "cell_type": "markdown",
   "metadata": {},
   "source": [
    "# Stocks Analysis LSTM\n",
    "\n",
    "In the following notebook we will be analysing the amazon stock prices."
   ]
  },
  {
   "cell_type": "code",
   "execution_count": 6,
   "metadata": {},
   "outputs": [
    {
     "name": "stdout",
     "output_type": "stream",
     "text": [
      "------ INFO -----\n",
      "<class 'pandas.core.frame.DataFrame'>\n",
      "DatetimeIndex: 4279 entries, 2002-05-13 to 2019-05-10\n",
      "Data columns (total 1 columns):\n",
      "Close    4279 non-null float64\n",
      "dtypes: float64(1)\n",
      "memory usage: 66.9 KB\n",
      "None\n",
      "\n",
      "\n",
      "------ HEAD 10 -----\n",
      "                Close\n",
      "Date                 \n",
      "2002-05-13  17.320000\n",
      "2002-05-14  18.809999\n",
      "2002-05-15  19.940001\n",
      "2002-05-16  19.610001\n",
      "2002-05-17  19.160000\n",
      "2002-05-20  19.389999\n",
      "2002-05-21  18.760000\n",
      "2002-05-22  18.750000\n",
      "2002-05-23  19.450001\n",
      "2002-05-24  19.469999\n",
      "\n",
      "\n",
      "------ DESCRIBE 10 -----\n",
      "             Close\n",
      "count  4279.000000\n",
      "mean    351.841227\n",
      "std     467.980919\n",
      "min      12.490000\n",
      "25%      46.205000\n",
      "50%     164.970001\n",
      "75%     384.220001\n",
      "max    2039.510010\n"
     ]
    }
   ],
   "source": [
    "import pandas as pd\n",
    "import numpy as np\n",
    "from keras.datasets import imdb\n",
    "\n",
    "data = pd.read_csv('AMZN.csv', header = 0, usecols = ['Date', 'Close'], parse_dates = True, index_col = 'Date')\n",
    "\n",
    "print(\"------ INFO -----\")\n",
    "print(data.info())\n",
    "\n",
    "print(\"\")\n",
    "print(\"\")\n",
    "\n",
    "print(\"------ HEAD 10 -----\")\n",
    "\n",
    "print(data.head(10))\n",
    "\n",
    "\n",
    "print(\"\")\n",
    "print(\"\")\n",
    "\n",
    "print(\"------ DESCRIBE 10 -----\")\n",
    "\n",
    "print(data.describe())\n"
   ]
  },
  {
   "cell_type": "code",
   "execution_count": 7,
   "metadata": {},
   "outputs": [
    {
     "data": {
      "image/png": "[encoded data removed]",
      "text/plain": [
       "<Figure size 720x360 with 1 Axes>"
      ]
     },
     "metadata": {
      "needs_background": "light"
     },
     "output_type": "display_data"
    }
   ],
   "source": [
    "import matplotlib.pyplot as plt\n",
    "plt.figure(figsize = (10, 5))\n",
    "plt.plot(data)\n",
    "plt.show()\n",
    "\n"
   ]
  },
  {
   "cell_type": "code",
   "execution_count": 9,
   "metadata": {},
   "outputs": [
    {
     "name": "stdout",
     "output_type": "stream",
     "text": [
      "               Close\n",
      "Date                \n",
      "2002-05-13       NaN\n",
      "2002-05-14  0.086028\n",
      "2002-05-15  0.060075\n",
      "2002-05-16 -0.016550\n",
      "2002-05-17 -0.022948\n",
      "2002-05-20  0.012004\n",
      "2002-05-21 -0.032491\n",
      "2002-05-22 -0.000533\n",
      "2002-05-23  0.037333\n",
      "2002-05-24  0.001028\n",
      "2002-05-28 -0.021058\n",
      "2002-05-29 -0.007870\n",
      "2002-05-30 -0.028556\n",
      "2002-05-31 -0.007621\n",
      "2002-06-03 -0.014811\n",
      "2002-06-04  0.000557\n",
      "2002-06-05  0.001113\n",
      "2002-06-06  0.010006\n",
      "2002-06-07  0.022565\n",
      "2002-06-10 -0.068891\n",
      "2002-06-11 -0.009249\n",
      "2002-06-12 -0.003501\n",
      "2002-06-13  0.020492\n",
      "2002-06-14 -0.034997\n",
      "2002-06-17  0.094530\n",
      "2002-06-18  0.020098\n",
      "2002-06-19 -0.025559\n",
      "2002-06-20 -0.040984\n",
      "2002-06-21 -0.001139\n",
      "2002-06-24 -0.001141\n",
      "...              ...\n",
      "2019-03-29  0.004133\n",
      "2019-04-01  0.018779\n",
      "2019-04-02 -0.000116\n",
      "2019-04-03  0.003705\n",
      "2019-04-04 -0.001011\n",
      "2019-04-05  0.010127\n",
      "2019-04-08  0.006847\n",
      "2019-04-09 -0.007579\n",
      "2019-04-10  0.006259\n",
      "2019-04-11 -0.001765\n",
      "2019-04-12 -0.000548\n",
      "2019-04-15  0.000982\n",
      "2019-04-16  0.009849\n",
      "2019-04-17  0.000955\n",
      "2019-04-18 -0.001678\n",
      "2019-04-22  0.013762\n",
      "2019-04-23  0.019318\n",
      "2019-04-24 -0.011446\n",
      "2019-04-25  0.000263\n",
      "2019-04-26  0.025433\n",
      "2019-04-29 -0.006254\n",
      "2019-04-30 -0.006144\n",
      "2019-05-01 -0.007786\n",
      "2019-05-02 -0.005598\n",
      "2019-05-03  0.032428\n",
      "2019-05-06 -0.006069\n",
      "2019-05-07 -0.015150\n",
      "2019-05-08 -0.001681\n",
      "2019-05-09 -0.009334\n",
      "2019-05-10 -0.005206\n",
      "\n",
      "[4279 rows x 1 columns]\n"
     ]
    }
   ],
   "source": [
    "print(data.pct_change())"
   ]
  },
  {
   "cell_type": "code",
   "execution_count": 10,
   "metadata": {},
   "outputs": [],
   "source": [
    "from sklearn.preprocessing import MinMaxScaler\n",
    "\n",
    "scaler = MinMaxScaler()\n",
    "\n",
    "dataScaled = scaler.fit_transform(data)"
   ]
  },
  {
   "cell_type": "code",
   "execution_count": 20,
   "metadata": {},
   "outputs": [
    {
     "name": "stdout",
     "output_type": "stream",
     "text": [
      "(2995, 1284)\n"
     ]
    }
   ],
   "source": [
    "trainLen = int(len(dataScaled) * 0.7)\n",
    "testLen = len(dataScaled) - trainLen\n",
    "trainData = dataScaled[0:trainLen, :]\n",
    "testData = dataScaled[trainLen:len(dataScaled), :]\n",
    "\n",
    "print(len(trainData), len(testData))"
   ]
  },
  {
   "cell_type": "markdown",
   "metadata": {},
   "source": [
    "## Training"
   ]
  },
  {
   "cell_type": "code",
   "execution_count": 21,
   "metadata": {},
   "outputs": [],
   "source": [
    "def datasetCreation(dataset, timestep = 1):\n",
    "    dataX, dataY = [], []\n",
    "    for i in range(len(dataset) - timestep - 1):\n",
    "        dataX.append(dataset[i:(i + timestep), 0])\n",
    "        dataY.append(dataset[i + timestep, 0])\n",
    "        \n",
    "    return np.array(dataX), np.array(dataY)"
   ]
  },
  {
   "cell_type": "code",
   "execution_count": 22,
   "metadata": {},
   "outputs": [],
   "source": [
    "timestep = 1\n",
    "train_x, train_y = datasetCreation(trainData, timestep)\n",
    "test_x, test_y = datasetCreation(testData, timestep)\n"
   ]
  },
  {
   "cell_type": "code",
   "execution_count": 23,
   "metadata": {},
   "outputs": [],
   "source": [
    "train_x = np.reshape(train_x, (train_x.shape[0], 1, train_x.shape[1]))\n",
    "test_x = np.reshape(test_x, (test_x.shape[0], 1, test_x.shape[1]))\n"
   ]
  },
  {
   "cell_type": "code",
   "execution_count": 24,
   "metadata": {},
   "outputs": [],
   "source": [
    "from keras.models import Sequential\n",
    "from keras.layers import LSTM\n",
    "from keras.layers import Dense\n",
    "from keras.layers import Activation\n",
    "\n",
    "model = Sequential()\n",
    "\n",
    "model.add(LSTM(256, input_shape=(1, timestep)))\n",
    "model.add(Dense(1, activation = 'sigmoid'))\n",
    "\n",
    "model.compile(loss = 'mean_squared_error', optimizer = 'adam', metrics = ['accuracy'])"
   ]
  },
  {
   "cell_type": "code",
   "execution_count": 25,
   "metadata": {},
   "outputs": [
    {
     "name": "stdout",
     "output_type": "stream",
     "text": [
      "Epoch 1/100\n",
      "2993/2993 [==============================] - 10s 3ms/step - loss: 0.0052 - acc: 3.3411e-04\n",
      "Epoch 2/100\n",
      "2993/2993 [==============================] - 10s 3ms/step - loss: 1.9258e-04 - acc: 3.3411e-04\n",
      "Epoch 3/100\n",
      "2993/2993 [==============================] - 10s 3ms/step - loss: 1.8606e-04 - acc: 3.3411e-04\n",
      "Epoch 4/100\n",
      "2993/2993 [==============================] - 10s 3ms/step - loss: 1.7542e-04 - acc: 3.3411e-04\n",
      "Epoch 5/100\n",
      "2993/2993 [==============================] - 10s 3ms/step - loss: 1.6417e-04 - acc: 3.3411e-04\n",
      "Epoch 6/100\n",
      "2993/2993 [==============================] - 10s 3ms/step - loss: 1.5081e-04 - acc: 3.3411e-04\n",
      "Epoch 7/100\n",
      "2993/2993 [==============================] - 10s 3ms/step - loss: 1.4256e-04 - acc: 3.3411e-04\n",
      "Epoch 8/100\n",
      "2993/2993 [==============================] - 10s 3ms/step - loss: 1.3039e-04 - acc: 3.3411e-04\n",
      "Epoch 9/100\n",
      "2993/2993 [==============================] - 10s 3ms/step - loss: 1.1346e-04 - acc: 3.3411e-04\n",
      "Epoch 10/100\n",
      "2993/2993 [==============================] - 10s 3ms/step - loss: 9.4305e-05 - acc: 3.3411e-04\n",
      "Epoch 11/100\n",
      "2993/2993 [==============================] - 10s 3ms/step - loss: 7.0206e-05 - acc: 3.3411e-04\n",
      "Epoch 12/100\n",
      "2993/2993 [==============================] - 10s 3ms/step - loss: 4.5294e-05 - acc: 3.3411e-04\n",
      "Epoch 13/100\n",
      "2993/2993 [==============================] - 11s 4ms/step - loss: 3.1500e-05 - acc: 3.3411e-04\n",
      "Epoch 14/100\n",
      "2993/2993 [==============================] - 11s 4ms/step - loss: 2.8434e-05 - acc: 3.3411e-04\n",
      "Epoch 15/100\n",
      "2993/2993 [==============================] - 11s 4ms/step - loss: 2.8182e-05 - acc: 3.3411e-04\n",
      "Epoch 16/100\n",
      "2993/2993 [==============================] - 11s 4ms/step - loss: 2.8383e-05 - acc: 3.3411e-04\n",
      "Epoch 17/100\n",
      "2993/2993 [==============================] - 11s 4ms/step - loss: 2.7701e-05 - acc: 3.3411e-04\n",
      "Epoch 18/100\n",
      "2993/2993 [==============================] - ETA: 0s - loss: 2.7711e-05 - acc: 3.3557e-0 - 11s 4ms/step - loss: 2.7692e-05 - acc: 3.3411e-04\n",
      "Epoch 19/100\n",
      "2993/2993 [==============================] - 11s 4ms/step - loss: 2.6933e-05 - acc: 3.3411e-04\n",
      "Epoch 20/100\n",
      "2993/2993 [==============================] - 11s 4ms/step - loss: 2.6554e-05 - acc: 3.3411e-04\n",
      "Epoch 21/100\n",
      "2993/2993 [==============================] - 11s 4ms/step - loss: 2.6365e-05 - acc: 3.3411e-04\n",
      "Epoch 22/100\n",
      "2993/2993 [==============================] - 11s 4ms/step - loss: 2.6700e-05 - acc: 3.3411e-04\n",
      "Epoch 23/100\n",
      "2993/2993 [==============================] - 11s 4ms/step - loss: 2.5615e-05 - acc: 3.3411e-04\n",
      "Epoch 24/100\n",
      "2993/2993 [==============================] - 11s 4ms/step - loss: 2.4900e-05 - acc: 3.3411e-04\n",
      "Epoch 25/100\n",
      "2993/2993 [==============================] - 11s 4ms/step - loss: 2.3859e-05 - acc: 3.3411e-04\n",
      "Epoch 26/100\n",
      "2993/2993 [==============================] - 11s 4ms/step - loss: 2.4105e-05 - acc: 3.3411e-04\n",
      "Epoch 27/100\n",
      "2993/2993 [==============================] - 10s 4ms/step - loss: 2.2968e-05 - acc: 3.3411e-04\n",
      "Epoch 28/100\n",
      "2993/2993 [==============================] - 11s 4ms/step - loss: 2.1711e-05 - acc: 3.3411e-04\n",
      "Epoch 29/100\n",
      "2993/2993 [==============================] - 11s 4ms/step - loss: 1.8497e-05 - acc: 3.3411e-04\n",
      "Epoch 30/100\n",
      "2993/2993 [==============================] - 10s 3ms/step - loss: 1.5498e-05 - acc: 3.3411e-04\n",
      "Epoch 31/100\n",
      "2993/2993 [==============================] - 10s 3ms/step - loss: 1.2760e-05 - acc: 3.3411e-04\n",
      "Epoch 32/100\n",
      "2993/2993 [==============================] - 10s 3ms/step - loss: 1.1334e-05 - acc: 3.3411e-04\n",
      "Epoch 33/100\n",
      "2993/2993 [==============================] - 10s 3ms/step - loss: 1.0356e-05 - acc: 3.3411e-04\n",
      "Epoch 34/100\n",
      "2993/2993 [==============================] - 10s 3ms/step - loss: 8.5816e-06 - acc: 3.3411e-04\n",
      "Epoch 35/100\n",
      "2993/2993 [==============================] - 10s 3ms/step - loss: 7.8544e-06 - acc: 3.3411e-04\n",
      "Epoch 36/100\n",
      "2993/2993 [==============================] - 10s 3ms/step - loss: 7.1520e-06 - acc: 3.3411e-04\n",
      "Epoch 37/100\n",
      "2993/2993 [==============================] - 10s 3ms/step - loss: 6.6412e-06 - acc: 3.3411e-04\n",
      "Epoch 38/100\n",
      "2993/2993 [==============================] - 10s 3ms/step - loss: 6.0211e-06 - acc: 3.3411e-04\n",
      "Epoch 39/100\n",
      "2993/2993 [==============================] - 10s 3ms/step - loss: 5.9153e-06 - acc: 3.3411e-04\n",
      "Epoch 40/100\n",
      "2993/2993 [==============================] - 10s 3ms/step - loss: 5.7008e-06 - acc: 3.3411e-04\n",
      "Epoch 41/100\n",
      "2993/2993 [==============================] - 10s 3ms/step - loss: 5.3845e-06 - acc: 3.3411e-04\n",
      "Epoch 42/100\n",
      "2993/2993 [==============================] - 10s 3ms/step - loss: 5.1468e-06 - acc: 3.3411e-04\n",
      "Epoch 43/100\n",
      "2993/2993 [==============================] - 10s 3ms/step - loss: 5.2996e-06 - acc: 3.3411e-04\n",
      "Epoch 44/100\n",
      "2993/2993 [==============================] - 10s 3ms/step - loss: 5.1311e-06 - acc: 3.3411e-04\n",
      "Epoch 45/100\n",
      "2993/2993 [==============================] - 10s 3ms/step - loss: 5.1229e-06 - acc: 3.3411e-04\n",
      "Epoch 46/100\n",
      "2993/2993 [==============================] - 10s 3ms/step - loss: 4.8022e-06 - acc: 3.3411e-04\n",
      "Epoch 47/100\n",
      "2993/2993 [==============================] - 10s 3ms/step - loss: 4.8374e-06 - acc: 3.3411e-04\n",
      "Epoch 48/100\n",
      "2993/2993 [==============================] - 10s 3ms/step - loss: 4.8668e-06 - acc: 3.3411e-04\n",
      "Epoch 49/100\n",
      "2993/2993 [==============================] - 11s 4ms/step - loss: 5.0477e-06 - acc: 3.3411e-04\n",
      "Epoch 50/100\n",
      "2993/2993 [==============================] - 11s 4ms/step - loss: 4.5340e-06 - acc: 3.3411e-04\n",
      "Epoch 51/100\n",
      "2993/2993 [==============================] - 11s 4ms/step - loss: 4.8850e-06 - acc: 3.3411e-04\n",
      "Epoch 52/100\n",
      "2993/2993 [==============================] - 11s 4ms/step - loss: 4.5765e-06 - acc: 3.3411e-04\n",
      "Epoch 53/100\n",
      "2993/2993 [==============================] - 11s 4ms/step - loss: 4.6660e-06 - acc: 3.3411e-04\n",
      "Epoch 54/100\n",
      "2993/2993 [==============================] - 11s 4ms/step - loss: 4.7008e-06 - acc: 3.3411e-04\n",
      "Epoch 55/100\n",
      "2993/2993 [==============================] - 11s 4ms/step - loss: 4.4644e-06 - acc: 3.3411e-04\n",
      "Epoch 56/100\n",
      "2993/2993 [==============================] - 11s 4ms/step - loss: 4.2585e-06 - acc: 3.3411e-04: 1s - loss\n",
      "Epoch 57/100\n",
      "2993/2993 [==============================] - 11s 4ms/step - loss: 4.3469e-06 - acc: 3.3411e-04\n",
      "Epoch 58/100\n",
      "2993/2993 [==============================] - 11s 4ms/step - loss: 4.3857e-06 - acc: 3.3411e-04\n",
      "Epoch 59/100\n",
      "2993/2993 [==============================] - 11s 4ms/step - loss: 4.1451e-06 - acc: 3.3411e-04\n",
      "Epoch 60/100\n",
      "2993/2993 [==============================] - 10s 3ms/step - loss: 4.2680e-06 - acc: 3.3411e-04\n",
      "Epoch 61/100\n",
      "2993/2993 [==============================] - 10s 3ms/step - loss: 4.4075e-06 - acc: 3.3411e-04\n",
      "Epoch 62/100\n",
      "2993/2993 [==============================] - 10s 3ms/step - loss: 4.1019e-06 - acc: 3.3411e-04\n",
      "Epoch 63/100\n",
      "2993/2993 [==============================] - 10s 3ms/step - loss: 4.0447e-06 - acc: 3.3411e-04\n",
      "Epoch 64/100\n",
      "2993/2993 [==============================] - 10s 3ms/step - loss: 3.9747e-06 - acc: 3.3411e-04\n",
      "Epoch 65/100\n",
      "2993/2993 [==============================] - 11s 4ms/step - loss: 4.0855e-06 - acc: 3.3411e-04\n",
      "Epoch 66/100\n",
      "2993/2993 [==============================] - 11s 4ms/step - loss: 4.0351e-06 - acc: 3.3411e-04\n",
      "Epoch 67/100\n",
      "2993/2993 [==============================] - 11s 4ms/step - loss: 4.1362e-06 - acc: 3.3411e-04\n",
      "Epoch 68/100\n",
      "2993/2993 [==============================] - 10s 3ms/step - loss: 3.8631e-06 - acc: 3.3411e-04\n",
      "Epoch 69/100\n",
      "2993/2993 [==============================] - 11s 4ms/step - loss: 4.1501e-06 - acc: 3.3411e-04\n",
      "Epoch 70/100\n",
      "2993/2993 [==============================] - 10s 3ms/step - loss: 3.9997e-06 - acc: 3.3411e-04\n",
      "Epoch 71/100\n",
      "2993/2993 [==============================] - 10s 3ms/step - loss: 3.7922e-06 - acc: 3.3411e-04\n",
      "Epoch 72/100\n",
      "2993/2993 [==============================] - 10s 3ms/step - loss: 3.7624e-06 - acc: 3.3411e-04\n",
      "Epoch 73/100\n",
      "2993/2993 [==============================] - 11s 4ms/step - loss: 3.9070e-06 - acc: 3.3411e-04\n",
      "Epoch 74/100\n",
      "2993/2993 [==============================] - 11s 4ms/step - loss: 3.6718e-06 - acc: 3.3411e-04\n",
      "Epoch 75/100\n",
      "2993/2993 [==============================] - 11s 4ms/step - loss: 3.7969e-06 - acc: 3.3411e-04\n",
      "Epoch 76/100\n"
     ]
    },
    {
     "name": "stdout",
     "output_type": "stream",
     "text": [
      "2993/2993 [==============================] - 10s 3ms/step - loss: 3.9608e-06 - acc: 3.3411e-04\n",
      "Epoch 77/100\n",
      "2993/2993 [==============================] - 11s 4ms/step - loss: 3.7765e-06 - acc: 3.3411e-04\n",
      "Epoch 78/100\n",
      "2993/2993 [==============================] - 11s 4ms/step - loss: 3.6310e-06 - acc: 3.3411e-04\n",
      "Epoch 79/100\n",
      "2993/2993 [==============================] - 11s 4ms/step - loss: 3.7705e-06 - acc: 3.3411e-04\n",
      "Epoch 80/100\n",
      "2993/2993 [==============================] - 10s 3ms/step - loss: 3.6095e-06 - acc: 3.3411e-04\n",
      "Epoch 81/100\n",
      "2993/2993 [==============================] - 10s 3ms/step - loss: 3.5964e-06 - acc: 3.3411e-04\n",
      "Epoch 82/100\n",
      "2993/2993 [==============================] - 10s 3ms/step - loss: 3.5795e-06 - acc: 3.3411e-04\n",
      "Epoch 83/100\n",
      "2993/2993 [==============================] - 10s 3ms/step - loss: 3.8563e-06 - acc: 3.3411e-04\n",
      "Epoch 84/100\n",
      "2993/2993 [==============================] - 10s 3ms/step - loss: 3.5585e-06 - acc: 3.3411e-04\n",
      "Epoch 85/100\n",
      "2993/2993 [==============================] - 10s 3ms/step - loss: 3.3965e-06 - acc: 3.3411e-04\n",
      "Epoch 86/100\n",
      "2993/2993 [==============================] - 10s 3ms/step - loss: 3.4808e-06 - acc: 3.3411e-04\n",
      "Epoch 87/100\n",
      "2993/2993 [==============================] - 10s 3ms/step - loss: 3.5790e-06 - acc: 3.3411e-04\n",
      "Epoch 88/100\n",
      "2993/2993 [==============================] - 10s 3ms/step - loss: 3.4918e-06 - acc: 3.3411e-04\n",
      "Epoch 89/100\n",
      "2993/2993 [==============================] - 10s 3ms/step - loss: 3.4465e-06 - acc: 3.3411e-04: 1\n",
      "Epoch 90/100\n",
      "2993/2993 [==============================] - 10s 3ms/step - loss: 3.6193e-06 - acc: 3.3411e-04\n",
      "Epoch 91/100\n",
      "2993/2993 [==============================] - 10s 3ms/step - loss: 3.4137e-06 - acc: 3.3411e-04\n",
      "Epoch 92/100\n",
      "2993/2993 [==============================] - 10s 3ms/step - loss: 3.5427e-06 - acc: 3.3411e-04\n",
      "Epoch 93/100\n",
      "2993/2993 [==============================] - 11s 4ms/step - loss: 3.3888e-06 - acc: 3.3411e-04: 0s - loss: 3.5001e-0\n",
      "Epoch 94/100\n",
      "2993/2993 [==============================] - 10s 3ms/step - loss: 3.4538e-06 - acc: 3.3411e-04\n",
      "Epoch 95/100\n",
      "2993/2993 [==============================] - 10s 3ms/step - loss: 3.3922e-06 - acc: 3.3411e-04\n",
      "Epoch 96/100\n",
      "2993/2993 [==============================] - 10s 3ms/step - loss: 3.3099e-06 - acc: 3.3411e-04\n",
      "Epoch 97/100\n",
      "2993/2993 [==============================] - 10s 3ms/step - loss: 3.3628e-06 - acc: 3.3411e-04\n",
      "Epoch 98/100\n",
      "2993/2993 [==============================] - 10s 3ms/step - loss: 3.2696e-06 - acc: 3.3411e-04: 1s - loss: 3.3696e - ETA: 0s - loss: 3.3071e-06 - acc: 3.\n",
      "Epoch 99/100\n",
      "2993/2993 [==============================] - 10s 3ms/step - loss: 3.3171e-06 - acc: 3.3411e-04\n",
      "Epoch 100/100\n",
      "2993/2993 [==============================] - 10s 3ms/step - loss: 3.3803e-06 - acc: 3.3411e-04\n"
     ]
    },
    {
     "data": {
      "text/plain": [
       "<keras.callbacks.History at 0x13ad1bf90>"
      ]
     },
     "execution_count": 25,
     "metadata": {},
     "output_type": "execute_result"
    }
   ],
   "source": [
    "model.fit(train_x, train_y, epochs = 100, batch_size = 1, verbose = 1)"
   ]
  },
  {
   "cell_type": "code",
   "execution_count": 26,
   "metadata": {},
   "outputs": [
    {
     "name": "stdout",
     "output_type": "stream",
     "text": [
      "_________________________________________________________________\n",
      "Layer (type)                 Output Shape              Param #   \n",
      "=================================================================\n",
      "lstm_2 (LSTM)                (None, 256)               264192    \n",
      "_________________________________________________________________\n",
      "dense_2 (Dense)              (None, 1)                 257       \n",
      "=================================================================\n",
      "Total params: 264,449\n",
      "Trainable params: 264,449\n",
      "Non-trainable params: 0\n",
      "_________________________________________________________________\n"
     ]
    }
   ],
   "source": [
    "model.summary()"
   ]
  },
  {
   "cell_type": "code",
   "execution_count": 27,
   "metadata": {},
   "outputs": [
    {
     "name": "stdout",
     "output_type": "stream",
     "text": [
      "('Keras model loss = ', 2.628268868655158e-06)\n",
      "('Keras model accuray = ', 0.0003341129301703976)\n"
     ]
    }
   ],
   "source": [
    "score = model.evaluate(train_x, train_y, verbose = 0)\n",
    "print(\"Keras model loss = \", score[0])\n",
    "print(\"Keras model accuray = \", score[1])\n",
    "\n",
    "trainPred = model.predict(train_x)\n",
    "testPred = model.predict(test_x)"
   ]
  },
  {
   "cell_type": "markdown",
   "metadata": {},
   "source": [
    "# Visualizing the results"
   ]
  },
  {
   "cell_type": "code",
   "execution_count": 32,
   "metadata": {},
   "outputs": [
    {
     "data": {
      "image/png": "[encoded data removed]",
      "text/plain": [
       "<Figure size 432x288 with 1 Axes>"
      ]
     },
     "metadata": {
      "needs_background": "light"
     },
     "output_type": "display_data"
    }
   ],
   "source": [
    "trainPred = scaler.inverse_transform(trainPred)\n",
    "train_y = scaler.inverse_transform([train_y])\n",
    "testPred = scaler.inverse_transform(testPred)\n",
    "test_y = scaler.inverse_transform([test_y])\n",
    "\n",
    "trainPredictPlot = np.empty_like(dataScaled)\n",
    "trainPredictPlot[:, :] = np.nan\n",
    "trainPredictPlot[1:len(trainPred) + 1, :] = trainPred\n",
    "\n",
    "testPredictPlot = np.empty_like(dataScaled)\n",
    "testPredictPlot[:, :] = np.nan\n",
    "testPredictPlot[1:len(trainPred) + (1 * 2) + 1:len(dataScaled) - 1, :] = testPred\n",
    "\n",
    "plt.plot(scaler.inverse_transform(dataScaled))\n",
    "plt.plot(trainPredictPlot)\n",
    "plt.plot(testPredictPlot)\n",
    "plt.show()\n",
    "\n"
   ]
  },
  {
   "cell_type": "code",
   "execution_count": null,
   "metadata": {},
   "outputs": [],
   "source": []
  }
 ],
 "metadata": {
  "kernelspec": {
   "display_name": "Python 2",
   "language": "python",
   "name": "python2"
  },
  "language_info": {
   "codemirror_mode": {
    "name": "ipython",
    "version": 2
   },
   "file_extension": ".py",
   "mimetype": "text/x-python",
   "name": "python",
   "nbconvert_exporter": "python",
   "pygments_lexer": "ipython2",
   "version": "2.7.15"
  }
 },
 "nbformat": 4,
 "nbformat_minor": 2
}
